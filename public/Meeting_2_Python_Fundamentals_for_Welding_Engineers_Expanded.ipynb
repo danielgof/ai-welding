{
 "cells": [
  {
   "cell_type": "markdown",
   "id": "2b5ea015",
   "metadata": {},
   "source": [
    "# Python Fundamentals for Welding Engineers"
   ]
  },
  {
   "cell_type": "markdown",
   "id": "9098172d",
   "metadata": {},
   "source": [
    "## Introduction to Python Programming"
   ]
  },
  {
   "cell_type": "code",
   "execution_count": null,
   "id": "e25d9a31",
   "metadata": {},
   "outputs": [],
   "source": [
    "# Simple Python program\n",
    "print(\"Hello, Welding Engineers!\")"
   ]
  },
  {
   "cell_type": "markdown",
   "id": "6c73bd37",
   "metadata": {},
   "source": [
    "## Data Types and Variables"
   ]
  },
  {
   "cell_type": "code",
   "execution_count": null,
   "id": "72e922a6",
   "metadata": {},
   "outputs": [],
   "source": [
    "# Integer, float, string, and boolean examples\n",
    "welding_temp = 1500  # in Celsius\n",
    "cooling_rate = 12.5   # in degrees per second\n",
    "material = \"Steel\"\n",
    "is_safe = True\n",
    "\n",
    "print(f\"Welding Temperature: {welding_temp}°C, Cooling Rate: {cooling_rate}°C/s, Material: {material}, Safe to Weld: {is_safe}\")"
   ]
  },
  {
   "cell_type": "markdown",
   "id": "83dbf64a",
   "metadata": {},
   "source": [
    "## Control Flow (if-else, loops)"
   ]
  },
  {
   "cell_type": "code",
   "execution_count": null,
   "id": "aa20c8dc",
   "metadata": {},
   "outputs": [],
   "source": [
    "# Example of control flow in welding applications\n",
    "welding_temp = 1500\n",
    "\n",
    "if welding_temp > 1400:\n",
    "    print(\"Warning: High temperature! Adjust settings.\")\n",
    "else:\n",
    "    print(\"Temperature is within safe range.\")"
   ]
  },
  {
   "cell_type": "markdown",
   "id": "385e9307",
   "metadata": {},
   "source": [
    "## Functions and Modules"
   ]
  },
  {
   "cell_type": "code",
   "execution_count": null,
   "id": "006a7552",
   "metadata": {},
   "outputs": [],
   "source": [
    "# Function to calculate heat input in welding\n",
    "def heat_input(voltage, current, speed):\n",
    "    return (voltage * current) / speed\n",
    "\n",
    "# Example usage\n",
    "V, I, S = 25, 200, 10  # Voltage (V), Current (A), Speed (mm/s)\n",
    "print(f\"Heat Input: {heat_input(V, I, S)} J/mm\")"
   ]
  },
  {
   "cell_type": "markdown",
   "id": "782419fd",
   "metadata": {},
   "source": [
    "## Data Structures (Lists, Dictionaries)"
   ]
  },
  {
   "cell_type": "code",
   "execution_count": null,
   "id": "39977e04",
   "metadata": {},
   "outputs": [],
   "source": [
    "# List of welding materials\n",
    "materials = [\"Steel\", \"Aluminum\", \"Titanium\"]\n",
    "print(materials)\n",
    "\n",
    "# Dictionary of welding parameters\n",
    "welding_params = {\"Voltage\": 25, \"Current\": 200, \"Speed\": 10}\n",
    "print(welding_params)"
   ]
  },
  {
   "cell_type": "markdown",
   "id": "5e7fdd71",
   "metadata": {},
   "source": [
    "## Working with Data (Importing and Exporting Data, Data Cleaning)"
   ]
  },
  {
   "cell_type": "code",
   "execution_count": null,
   "id": "dae97345",
   "metadata": {},
   "outputs": [],
   "source": [
    "import pandas as pd\n",
    "\n",
    "# Create a DataFrame with sample welding data\n",
    "data = {'Material': ['Steel', 'Aluminum', 'Titanium'],\n",
    "        'Voltage (V)': [25, 22, 30],\n",
    "        'Current (A)': [200, 180, 220]}\n",
    "\n",
    "df = pd.DataFrame(data)\n",
    "\n",
    "# Save to CSV\n",
    "df.to_csv('welding_data.csv', index=False)\n",
    "\n",
    "# Read from CSV\n",
    "df_loaded = pd.read_csv('welding_data.csv')\n",
    "print(df_loaded)"
   ]
  },
  {
   "cell_type": "markdown",
   "id": "f5f9a237",
   "metadata": {},
   "source": [
    "## Libraries for Data Science (NumPy, Pandas, Matplotlib)"
   ]
  },
  {
   "cell_type": "code",
   "execution_count": null,
   "id": "e86ad531",
   "metadata": {},
   "outputs": [],
   "source": [
    "import numpy as np\n",
    "import matplotlib.pyplot as plt\n",
    "\n",
    "# Simulate temperature readings\n",
    "time = np.linspace(0, 10, 100)\n",
    "temperature = 1500 - 50 * np.sin(time)  # Simulated cooling\n",
    "\n",
    "plt.plot(time, temperature, label=\"Welding Temperature\")\n",
    "plt.xlabel(\"Time (s)\")\n",
    "plt.ylabel(\"Temperature (°C)\")\n",
    "plt.title(\"Welding Temperature Over Time\")\n",
    "plt.legend()\n",
    "plt.show()"
   ]
  }
 ],
 "metadata": {},
 "nbformat": 4,
 "nbformat_minor": 5
}