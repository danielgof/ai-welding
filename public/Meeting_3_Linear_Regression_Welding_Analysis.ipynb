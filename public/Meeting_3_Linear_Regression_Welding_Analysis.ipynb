{
  "nbformat": 4,
  "nbformat_minor": 0,
  "metadata": {
    "colab": {
      "provenance": []
    },
    "kernelspec": {
      "name": "python3",
      "display_name": "Python 3"
    },
    "language_info": {
      "name": "python"
    }
  },
  "cells": [
    {
      "cell_type": "code",
      "execution_count": 1,
      "metadata": {
        "id": "_Otmd01AiVus"
      },
      "outputs": [],
      "source": [
        "# Import libaries here\n",
        "import pandas as pd\n",
        "import numpy as np\n",
        "import matplotlib.pyplot as plt\n",
        "from sklearn.model_selection import train_test_split\n",
        "from sklearn.linear_model import LinearRegression\n",
        "from sklearn.metrics import mean_squared_error, r2_score"
      ]
    },
    {
      "cell_type": "code",
      "source": [
        "# Sample Data (Welding Parameters)\n",
        "data = {\n",
        "    'Voltage': [20, 25, 30, 35, 40, 45, 50, 55, 60, 65],\n",
        "    'Current': [100, 120, 140, 160, 180, 200, 220, 240, 260, 280],\n",
        "    'Travel_Speed': [15, 14, 13, 12, 11, 10, 9, 8, 7, 6],\n",
        "    'Weld_Strength': [300, 340, 370, 400, 420, 440, 460, 470, 480, 490]\n",
        "}"
      ],
      "metadata": {
        "id": "bPVqS21BihhO"
      },
      "execution_count": null,
      "outputs": []
    },
    {
      "cell_type": "code",
      "source": [
        "# Data Preparation\n",
        "df = pd.DataFrame(data)\n",
        "X = df[['Voltage', 'Current', 'Travel_Speed']]\n",
        "y = df['Weld_Strength']"
      ],
      "metadata": {
        "id": "wlrfeQ9iiuOr"
      },
      "execution_count": null,
      "outputs": []
    },
    {
      "cell_type": "code",
      "source": [
        "# Split data into training and test sets\n",
        "X_train, X_test, y_train, y_test = train_test_split(X, y, test_size=0.3, random_state=42)"
      ],
      "metadata": {
        "id": "tcCe9XE_ivjJ"
      },
      "execution_count": null,
      "outputs": []
    },
    {
      "cell_type": "code",
      "source": [
        "# Linear Regression Model\n",
        "model = LinearRegression()\n",
        "model.fit(X_train, y_train)"
      ],
      "metadata": {
        "id": "AiUDJtfpix5w"
      },
      "execution_count": null,
      "outputs": []
    },
    {
      "cell_type": "code",
      "source": [
        "# Predictions\n",
        "y_pred = model.predict(X_test)"
      ],
      "metadata": {
        "id": "sBrPCdZzi7JB"
      },
      "execution_count": null,
      "outputs": []
    },
    {
      "cell_type": "code",
      "source": [
        "# Evaluation Metrics\n",
        "mse = mean_squared_error(y_test, y_pred)\n",
        "r2 = r2_score(y_test, y_pred)"
      ],
      "metadata": {
        "id": "IUE3sjyhi8pU"
      },
      "execution_count": null,
      "outputs": []
    },
    {
      "cell_type": "code",
      "source": [
        "# Results\n",
        "print(f\"Mean Squared Error (MSE): {mse:.2f}\")\n",
        "print(f\"R-squared (R²): {r2:.2f}\")"
      ],
      "metadata": {
        "id": "egGhdh2ii-TR"
      },
      "execution_count": null,
      "outputs": []
    },
    {
      "cell_type": "code",
      "source": [
        "# Visualization\n",
        "plt.scatter(y_test, y_pred, color='blue')\n",
        "plt.plot(y_test, y_test, color='red', linewidth=2)  # Ideal prediction line\n",
        "plt.title('Actual vs Predicted Weld Strength')\n",
        "plt.xlabel('Actual Weld Strength')\n",
        "plt.ylabel('Predicted Weld Strength')\n",
        "plt.grid(True)\n",
        "plt.show()"
      ],
      "metadata": {
        "id": "uAfJHYCNi_oj"
      },
      "execution_count": null,
      "outputs": []
    }
  ]
}